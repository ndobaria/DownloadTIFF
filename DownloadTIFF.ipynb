{
 "cells": [
  {
   "cell_type": "code",
   "execution_count": 8,
   "id": "8492a9a7-fc9a-4c66-8415-10147fc1d58d",
   "metadata": {},
   "outputs": [],
   "source": [
    "import pandas as pd\n",
    "import os\n",
    "import urllib\n",
    "\n",
    "#Read csvFile that consists indices of files to be downloaded\n",
    "filepath = \"S:\\Project\\Download TIF script\\metadata.csv\"\n",
    "metadata = pd.read_csv(filepath)\n",
    "\n",
    "#Create Download destination folder\n",
    "outdir =\"S:\\Project\\Download TIF script\"\n",
    "if not os.path.exists(outdir):\n",
    "    os.makedirs(outdir)\n",
    "    \n",
    "#Download TIF files from URL to the destination folder  \n",
    "for i in range(1, len(metadata)):\n",
    "    #Creating URL_filename from metadata indices e.g., index = 2, OG_index = 7 to \"lund_i000002_oi_000007\"\n",
    "    filename = 'lund_i{0:06d}_oi_{1:06d}.tif'.format(metadata.index[i], metadata.original_index[i])\n",
    "    \n",
    "    outpath = os.path.join(outdir, filename)\n",
    "    \n",
    "    #Recreating final URL for downloading\n",
    "    url = 'https://zenodo.org/record/5837363/files/' + filename\n",
    "    \n",
    "    #Downloading and Saving the image file in destination folder with \"filename\"\n",
    "    if not os.path.exists(outpath):\n",
    "        r = urllib.request.urlretrieve(url, outpath)\n"
   ]
  }
 ],
 "metadata": {
  "kernelspec": {
   "display_name": "Python 3 (ipykernel)",
   "language": "python",
   "name": "python3"
  },
  "language_info": {
   "codemirror_mode": {
    "name": "ipython",
    "version": 3
   },
   "file_extension": ".py",
   "mimetype": "text/x-python",
   "name": "python",
   "nbconvert_exporter": "python",
   "pygments_lexer": "ipython3",
   "version": "3.10.2"
  }
 },
 "nbformat": 4,
 "nbformat_minor": 5
}
