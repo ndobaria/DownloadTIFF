{
 "cells": [
  {
   "cell_type": "code",
   "execution_count": 8,
   "id": "8492a9a7-fc9a-4c66-8415-10147fc1d58d",
   "metadata": {},
   "outputs": [
    {
     "name": "stdout",
     "output_type": "stream",
     "text": [
      "429\n"
     ]
    }
   ],
   "source": [
    "import pandas as pd\n",
    "import os\n",
    "import urllib\n",
    "\n",
    "#Read csvFile that consists indices of files to be downloaded\n",
    "filepath = \"S:\\Project\\Download TIF script\\metadata.csv\"\n",
    "metadata = pd.read_csv(filepath)\n",
    "\n",
    "#Create Download destination folder\n",
    "outdir =\"S:\\Project\\Download TIF script\"\n",
    "if not os.path.exists(outdir):\n",
    "    os.makedirs(outdir)\n",
    "    \n",
    "#Download TIF files from URL to the destination folder  \n",
    "for i in range(1, len(metadata)):\n",
    "    #Creating URL_filename from metadata indices e.g., index = 2, OG_index = 7 to \"lund_i000002_oi_000007\"\n",
    "    filename = 'lund_i{0:06d}_oi_{1:06d}.tif'.format(metadata.index[i], metadata.original_index[i])\n",
    "    \n",
    "    outpath = os.path.join(outdir, filename)\n",
    "    \n",
    "    #Recreating final URL for downloading\n",
    "    url = 'https://zenodo.org/record/5837363/files/' + filename\n",
    "    \n",
    "    #Downloading and Saving the image file in destination folder with \"filename\"\n",
    "    if not os.path.exists(outpath):\n",
    "        r = urllib.request.urlretrieve(url, outpath)\n"
   ]
  },
  {
   "cell_type": "code",
   "execution_count": 2,
   "id": "89faa16d-8eaf-4012-91c8-eae05308f813",
   "metadata": {},
   "outputs": [
    {
     "ename": "NameError",
     "evalue": "name 'indexsrc' is not defined",
     "output_type": "error",
     "traceback": [
      "\u001b[1;31m---------------------------------------------------------------------------\u001b[0m",
      "\u001b[1;31mNameError\u001b[0m                                 Traceback (most recent call last)",
      "Input \u001b[1;32mIn [2]\u001b[0m, in \u001b[0;36m<module>\u001b[1;34m\u001b[0m\n\u001b[1;32m----> 1\u001b[0m \u001b[43mindexsrc\u001b[49m\u001b[38;5;241m.\u001b[39moriginal_index[\u001b[38;5;241m2\u001b[39m]\n",
      "\u001b[1;31mNameError\u001b[0m: name 'indexsrc' is not defined"
     ]
    }
   ],
   "source": [
    "indexsrc.original_index[2]"
   ]
  },
  {
   "cell_type": "code",
   "execution_count": 16,
   "id": "0d800c0a-2e37-4756-8b5f-14b182e3cc05",
   "metadata": {},
   "outputs": [
    {
     "data": {
      "text/plain": [
       "numpy.int64"
      ]
     },
     "execution_count": 16,
     "metadata": {},
     "output_type": "execute_result"
    }
   ],
   "source": [
    "d = 'file/f/' + str(2)\n",
    "type(indexsrc.original_index[2])"
   ]
  },
  {
   "cell_type": "code",
   "execution_count": 19,
   "id": "52b25c8e-f425-45e0-a075-cd95517ebe2b",
   "metadata": {},
   "outputs": [
    {
     "data": {
      "text/plain": [
       "'Adf00002_oi00003'"
      ]
     },
     "execution_count": 19,
     "metadata": {},
     "output_type": "execute_result"
    }
   ],
   "source": [
    "a= 'Adf{0:05d}_oi{1:05d}'.format(indexsrc.index[2], indexsrc.index[3])\n",
    "a"
   ]
  },
  {
   "cell_type": "code",
   "execution_count": 30,
   "id": "35d69321-0f5e-463c-b7fd-34d6e4508a72",
   "metadata": {},
   "outputs": [],
   "source": [
    "import urllib\n",
    "url = 'https://zenodo.org/record/5837363/files/lund_i000002_oi_000007.tif'\n",
    "r = urllib.request.urlretrieve(url, 'S:\\Project\\Download TIF script\\outfp.tif')"
   ]
  },
  {
   "cell_type": "code",
   "execution_count": 21,
   "id": "25c9314a-17e2-4b32-bee6-08881c06558b",
   "metadata": {},
   "outputs": [
    {
     "data": {
      "text/html": [
       "<div>\n",
       "<style scoped>\n",
       "    .dataframe tbody tr th:only-of-type {\n",
       "        vertical-align: middle;\n",
       "    }\n",
       "\n",
       "    .dataframe tbody tr th {\n",
       "        vertical-align: top;\n",
       "    }\n",
       "\n",
       "    .dataframe thead th {\n",
       "        text-align: right;\n",
       "    }\n",
       "</style>\n",
       "<table border=\"1\" class=\"dataframe\">\n",
       "  <thead>\n",
       "    <tr style=\"text-align: right;\">\n",
       "      <th></th>\n",
       "      <th>Unnamed: 0</th>\n",
       "      <th>time_in_s</th>\n",
       "      <th>original_index</th>\n",
       "      <th>index</th>\n",
       "    </tr>\n",
       "  </thead>\n",
       "  <tbody>\n",
       "    <tr>\n",
       "      <th>0</th>\n",
       "      <td>0</td>\n",
       "      <td>0.0000</td>\n",
       "      <td>0</td>\n",
       "      <td>0</td>\n",
       "    </tr>\n",
       "    <tr>\n",
       "      <th>1</th>\n",
       "      <td>1</td>\n",
       "      <td>419.9778</td>\n",
       "      <td>5</td>\n",
       "      <td>1</td>\n",
       "    </tr>\n",
       "    <tr>\n",
       "      <th>2</th>\n",
       "      <td>2</td>\n",
       "      <td>779.9945</td>\n",
       "      <td>7</td>\n",
       "      <td>2</td>\n",
       "    </tr>\n",
       "    <tr>\n",
       "      <th>3</th>\n",
       "      <td>3</td>\n",
       "      <td>960.0141</td>\n",
       "      <td>8</td>\n",
       "      <td>3</td>\n",
       "    </tr>\n",
       "    <tr>\n",
       "      <th>4</th>\n",
       "      <td>4</td>\n",
       "      <td>1320.0067</td>\n",
       "      <td>10</td>\n",
       "      <td>4</td>\n",
       "    </tr>\n",
       "    <tr>\n",
       "      <th>...</th>\n",
       "      <td>...</td>\n",
       "      <td>...</td>\n",
       "      <td>...</td>\n",
       "      <td>...</td>\n",
       "    </tr>\n",
       "    <tr>\n",
       "      <th>427</th>\n",
       "      <td>427</td>\n",
       "      <td>128139.6458</td>\n",
       "      <td>2388</td>\n",
       "      <td>427</td>\n",
       "    </tr>\n",
       "    <tr>\n",
       "      <th>428</th>\n",
       "      <td>428</td>\n",
       "      <td>128739.9586</td>\n",
       "      <td>2389</td>\n",
       "      <td>428</td>\n",
       "    </tr>\n",
       "    <tr>\n",
       "      <th>429</th>\n",
       "      <td>429</td>\n",
       "      <td>128739.9586</td>\n",
       "      <td>2389</td>\n",
       "      <td>429</td>\n",
       "    </tr>\n",
       "    <tr>\n",
       "      <th>430</th>\n",
       "      <td>430</td>\n",
       "      <td>129339.7183</td>\n",
       "      <td>2390</td>\n",
       "      <td>430</td>\n",
       "    </tr>\n",
       "    <tr>\n",
       "      <th>431</th>\n",
       "      <td>431</td>\n",
       "      <td>129339.7183</td>\n",
       "      <td>2390</td>\n",
       "      <td>431</td>\n",
       "    </tr>\n",
       "  </tbody>\n",
       "</table>\n",
       "<p>432 rows × 4 columns</p>\n",
       "</div>"
      ],
      "text/plain": [
       "     Unnamed: 0    time_in_s  original_index  index\n",
       "0             0       0.0000               0      0\n",
       "1             1     419.9778               5      1\n",
       "2             2     779.9945               7      2\n",
       "3             3     960.0141               8      3\n",
       "4             4    1320.0067              10      4\n",
       "..          ...          ...             ...    ...\n",
       "427         427  128139.6458            2388    427\n",
       "428         428  128739.9586            2389    428\n",
       "429         429  128739.9586            2389    429\n",
       "430         430  129339.7183            2390    430\n",
       "431         431  129339.7183            2390    431\n",
       "\n",
       "[432 rows x 4 columns]"
      ]
     },
     "execution_count": 21,
     "metadata": {},
     "output_type": "execute_result"
    }
   ],
   "source": [
    "indexsrc"
   ]
  },
  {
   "cell_type": "code",
   "execution_count": 5,
   "id": "ad588188-6fe5-46a2-84cd-a8bbaab73255",
   "metadata": {},
   "outputs": [
    {
     "data": {
      "text/plain": [
       "'https://zenodo.org/record/5837363/files/lund_i000001_oi000005.tif'"
      ]
     },
     "execution_count": 5,
     "metadata": {},
     "output_type": "execute_result"
    }
   ],
   "source": [
    "url = 'https://zenodo.org/record/5837363/files/' + filename\n",
    "url"
   ]
  },
  {
   "cell_type": "code",
   "execution_count": null,
   "id": "e7ad2069-227c-4a74-a193-774f0743d8d2",
   "metadata": {},
   "outputs": [],
   "source": []
  }
 ],
 "metadata": {
  "kernelspec": {
   "display_name": "Python 3 (ipykernel)",
   "language": "python",
   "name": "python3"
  },
  "language_info": {
   "codemirror_mode": {
    "name": "ipython",
    "version": 3
   },
   "file_extension": ".py",
   "mimetype": "text/x-python",
   "name": "python",
   "nbconvert_exporter": "python",
   "pygments_lexer": "ipython3",
   "version": "3.10.2"
  }
 },
 "nbformat": 4,
 "nbformat_minor": 5
}
